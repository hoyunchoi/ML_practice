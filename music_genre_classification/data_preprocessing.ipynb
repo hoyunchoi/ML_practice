{
 "cells": [
  {
   "cell_type": "code",
   "execution_count": 1,
   "metadata": {},
   "outputs": [],
   "source": [
    "import sys\n",
    "sys.path.append('lib')\n",
    "\n",
    "from pre_process import pre_process"
   ]
  },
  {
   "cell_type": "code",
   "execution_count": 2,
   "metadata": {},
   "outputs": [],
   "source": [
    "DATASET_PATH = \"data/genres\"\n",
    "JSON_PATH = \"data/genres.json\""
   ]
  },
  {
   "cell_type": "code",
   "execution_count": 3,
   "metadata": {},
   "outputs": [],
   "source": [
    "data = pre_process()"
   ]
  },
  {
   "cell_type": "code",
   "execution_count": 4,
   "metadata": {},
   "outputs": [
    {
     "name": "stdout",
     "output_type": "stream",
     "text": [
      "Processing: hiphop\n",
      "Processing: classical\n",
      "Processing: blues\n",
      "Processing: metal\n",
      "Processing: jazz\n",
      "Processing: country\n",
      "Processing: pop\n",
      "Processing: rock\n",
      "Processing: disco\n",
      "Processing: reggae\n"
     ]
    }
   ],
   "source": [
    "data.process_data(DATASET_PATH)"
   ]
  },
  {
   "cell_type": "code",
   "execution_count": 5,
   "metadata": {},
   "outputs": [],
   "source": [
    "data.save(JSON_PATH)"
   ]
  }
 ],
 "metadata": {
  "language_info": {},
  "orig_nbformat": 3
 },
 "nbformat": 4,
 "nbformat_minor": 2
}