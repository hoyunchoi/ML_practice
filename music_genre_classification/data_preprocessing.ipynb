{
 "cells": [
  {
   "cell_type": "code",
   "execution_count": 6,
   "metadata": {},
   "outputs": [],
   "source": [
    "import os\n",
    "import sys\n",
    "sys.path.append('lib')\n",
    "\n",
    "from pre_process import pre_process"
   ]
  },
  {
   "cell_type": "code",
   "execution_count": 7,
   "metadata": {},
   "outputs": [],
   "source": [
    "DATASET_PATH = os.path.join(\"data\", \"genres\")\n",
    "NUM_SEGMENTS = 10"
   ]
  },
  {
   "cell_type": "code",
   "execution_count": 11,
   "metadata": {},
   "outputs": [],
   "source": [
    "data = pre_process(num_segments=NUM_SEGMENTS)"
   ]
  },
  {
   "cell_type": "code",
   "execution_count": 13,
   "metadata": {},
   "outputs": [
    {
     "name": "stdout",
     "output_type": "stream",
     "text": [
      "Processing: classical\n",
      "Processing: jazz\n",
      "Processing: country\n",
      "Processing: reggae\n",
      "Processing: metal\n",
      "Processing: disco\n",
      "Processing: pop\n",
      "Processing: hiphop\n",
      "Processing: blues\n",
      "Processing: rock\n"
     ]
    }
   ],
   "source": [
    "data.process_data(DATASET_PATH)"
   ]
  },
  {
   "cell_type": "code",
   "execution_count": 14,
   "metadata": {},
   "outputs": [],
   "source": [
    "data.save(os.path.join(\"data\", \"genres_{}.json\".format(NUM_SEGMENTS)))"
   ]
  }
 ],
 "metadata": {
  "kernelspec": {
   "display_name": "Python 3.9.2 64-bit ('pytorch': conda)",
   "name": "python394jvsc74a57bd0229cf057d4c3eb13156ec6e97d0a66f2d791749db88cb816f0b7c4f54e50a978"
  },
  "language_info": {
   "codemirror_mode": {
    "name": "ipython",
    "version": 3
   },
   "file_extension": ".py",
   "mimetype": "text/x-python",
   "name": "python",
   "nbconvert_exporter": "python",
   "pygments_lexer": "ipython3",
   "version": "3.9.4"
  },
  "orig_nbformat": 3
 },
 "nbformat": 4,
 "nbformat_minor": 2
}